{
 "cells": [
  {
   "cell_type": "code",
   "execution_count": 2,
   "id": "70eb8e3f",
   "metadata": {},
   "outputs": [],
   "source": [
    "import pandas as pd #data processing, CSV file I/O (e.g. pd.read_csv)\n",
    "import numpy as np # numerical calculation, linear algebra\n",
    "import matplotlib.pyplot as plt # visulizing plot\n",
    "import seaborn as sns # for visilizing plot"
   ]
  },
  {
   "cell_type": "code",
   "execution_count": 3,
   "id": "171c56ff",
   "metadata": {},
   "outputs": [],
   "source": [
    "# Lets check the columns name in dataframe as all columns are vot visible\n",
    "pd.set_option('display.max_columns', None)"
   ]
  },
  {
   "cell_type": "code",
   "execution_count": 1,
   "id": "37190e00",
   "metadata": {
    "scrolled": false
   },
   "outputs": [
    {
     "ename": "NameError",
     "evalue": "name 'pd' is not defined",
     "output_type": "error",
     "traceback": [
      "\u001b[0;31m---------------------------------------------------------------------------\u001b[0m",
      "\u001b[0;31mNameError\u001b[0m                                 Traceback (most recent call last)",
      "Cell \u001b[0;32mIn [1], line 1\u001b[0m\n\u001b[0;32m----> 1\u001b[0m df \u001b[38;5;241m=\u001b[39m \u001b[43mpd\u001b[49m\u001b[38;5;241m.\u001b[39mread_csv(\u001b[38;5;124m\"\u001b[39m\u001b[38;5;124mDataCoSupplyChainDataset.csv\u001b[39m\u001b[38;5;124m\"\u001b[39m, encoding\u001b[38;5;241m=\u001b[39m\u001b[38;5;124m\"\u001b[39m\u001b[38;5;124mlatin1\u001b[39m\u001b[38;5;124m\"\u001b[39m)\n\u001b[1;32m      2\u001b[0m df\u001b[38;5;241m.\u001b[39mhead()\n",
      "\u001b[0;31mNameError\u001b[0m: name 'pd' is not defined"
     ]
    }
   ],
   "source": [
    "df = pd.read_csv(\"DataCoSupplyChainDataset.csv\", encoding=\"latin1\")\n",
    "df.head() # Showing first 5 rows in dataframe, we can set df.head(number_of_rows) where as number_of_rows for how many rows we want to see"
   ]
  },
  {
   "cell_type": "code",
   "execution_count": 67,
   "id": "19357143",
   "metadata": {},
   "outputs": [
    {
     "name": "stdout",
     "output_type": "stream",
     "text": [
      "(180519, 53)\n"
     ]
    }
   ],
   "source": [
    "print(df.shape)"
   ]
  },
  {
   "cell_type": "markdown",
   "id": "8403c8f4",
   "metadata": {},
   "source": [
    "From the output, we can see that the table contains ***180519*** rows and ***53*** columns."
   ]
  },
  {
   "cell_type": "markdown",
   "id": "046c43c0",
   "metadata": {},
   "source": [
    "#### Now let’s try printing out the column names using: ***columns***"
   ]
  },
  {
   "cell_type": "code",
   "execution_count": 68,
   "id": "e8d1767a",
   "metadata": {
    "scrolled": true
   },
   "outputs": [
    {
     "name": "stdout",
     "output_type": "stream",
     "text": [
      "Index(['Type', 'Days for shipping (real)', 'Days for shipment (scheduled)',\n",
      "       'Benefit per order', 'Sales per customer', 'Delivery Status',\n",
      "       'Late_delivery_risk', 'Category Id', 'Category Name', 'Customer City',\n",
      "       'Customer Country', 'Customer Email', 'Customer Fname', 'Customer Id',\n",
      "       'Customer Lname', 'Customer Password', 'Customer Segment',\n",
      "       'Customer State', 'Customer Street', 'Customer Zipcode',\n",
      "       'Department Id', 'Department Name', 'Latitude', 'Longitude', 'Market',\n",
      "       'Order City', 'Order Country', 'Order Customer Id',\n",
      "       'order date (DateOrders)', 'Order Id', 'Order Item Cardprod Id',\n",
      "       'Order Item Discount', 'Order Item Discount Rate', 'Order Item Id',\n",
      "       'Order Item Product Price', 'Order Item Profit Ratio',\n",
      "       'Order Item Quantity', 'Sales', 'Order Item Total',\n",
      "       'Order Profit Per Order', 'Order Region', 'Order State', 'Order Status',\n",
      "       'Order Zipcode', 'Product Card Id', 'Product Category Id',\n",
      "       'Product Description', 'Product Image', 'Product Name', 'Product Price',\n",
      "       'Product Status', 'shipping date (DateOrders)', 'Shipping Mode'],\n",
      "      dtype='object')\n"
     ]
    }
   ],
   "source": [
    "print(df.columns)"
   ]
  },
  {
   "cell_type": "markdown",
   "id": "e5c10070",
   "metadata": {},
   "source": [
    "#### We can use the ***info()*** method to output some general information about the dataframe:"
   ]
  },
  {
   "cell_type": "code",
   "execution_count": 69,
   "id": "eae742d6",
   "metadata": {
    "scrolled": true
   },
   "outputs": [
    {
     "name": "stdout",
     "output_type": "stream",
     "text": [
      "<class 'pandas.core.frame.DataFrame'>\n",
      "RangeIndex: 180519 entries, 0 to 180518\n",
      "Data columns (total 53 columns):\n",
      " #   Column                         Non-Null Count   Dtype  \n",
      "---  ------                         --------------   -----  \n",
      " 0   Type                           180519 non-null  object \n",
      " 1   Days for shipping (real)       180519 non-null  int64  \n",
      " 2   Days for shipment (scheduled)  180519 non-null  int64  \n",
      " 3   Benefit per order              180519 non-null  float64\n",
      " 4   Sales per customer             180519 non-null  float64\n",
      " 5   Delivery Status                180519 non-null  object \n",
      " 6   Late_delivery_risk             180519 non-null  int64  \n",
      " 7   Category Id                    180519 non-null  int64  \n",
      " 8   Category Name                  180519 non-null  object \n",
      " 9   Customer City                  180519 non-null  object \n",
      " 10  Customer Country               180519 non-null  object \n",
      " 11  Customer Email                 180519 non-null  object \n",
      " 12  Customer Fname                 180519 non-null  object \n",
      " 13  Customer Id                    180519 non-null  int64  \n",
      " 14  Customer Lname                 180511 non-null  object \n",
      " 15  Customer Password              180519 non-null  object \n",
      " 16  Customer Segment               180519 non-null  object \n",
      " 17  Customer State                 180519 non-null  object \n",
      " 18  Customer Street                180519 non-null  object \n",
      " 19  Customer Zipcode               180516 non-null  float64\n",
      " 20  Department Id                  180519 non-null  int64  \n",
      " 21  Department Name                180519 non-null  object \n",
      " 22  Latitude                       180519 non-null  float64\n",
      " 23  Longitude                      180519 non-null  float64\n",
      " 24  Market                         180519 non-null  object \n",
      " 25  Order City                     180519 non-null  object \n",
      " 26  Order Country                  180519 non-null  object \n",
      " 27  Order Customer Id              180519 non-null  int64  \n",
      " 28  order date (DateOrders)        180519 non-null  object \n",
      " 29  Order Id                       180519 non-null  int64  \n",
      " 30  Order Item Cardprod Id         180519 non-null  int64  \n",
      " 31  Order Item Discount            180519 non-null  float64\n",
      " 32  Order Item Discount Rate       180519 non-null  float64\n",
      " 33  Order Item Id                  180519 non-null  int64  \n",
      " 34  Order Item Product Price       180519 non-null  float64\n",
      " 35  Order Item Profit Ratio        180519 non-null  float64\n",
      " 36  Order Item Quantity            180519 non-null  int64  \n",
      " 37  Sales                          180519 non-null  float64\n",
      " 38  Order Item Total               180519 non-null  float64\n",
      " 39  Order Profit Per Order         180519 non-null  float64\n",
      " 40  Order Region                   180519 non-null  object \n",
      " 41  Order State                    180519 non-null  object \n",
      " 42  Order Status                   180519 non-null  object \n",
      " 43  Order Zipcode                  24840 non-null   float64\n",
      " 44  Product Card Id                180519 non-null  int64  \n",
      " 45  Product Category Id            180519 non-null  int64  \n",
      " 46  Product Description            0 non-null       float64\n",
      " 47  Product Image                  180519 non-null  object \n",
      " 48  Product Name                   180519 non-null  object \n",
      " 49  Product Price                  180519 non-null  float64\n",
      " 50  Product Status                 180519 non-null  int64  \n",
      " 51  shipping date (DateOrders)     180519 non-null  object \n",
      " 52  Shipping Mode                  180519 non-null  object \n",
      "dtypes: float64(15), int64(14), object(24)\n",
      "memory usage: 73.0+ MB\n",
      "None\n"
     ]
    }
   ],
   "source": [
    "print(df.info()) # Check the data information like which type of data the column contains"
   ]
  },
  {
   "cell_type": "markdown",
   "id": "f7ec66d2",
   "metadata": {},
   "source": [
    "# *Data Cleaning*"
   ]
  },
  {
   "cell_type": "markdown",
   "id": "2f6ddc78",
   "metadata": {},
   "source": [
    "From the output of ***info*** we can see that ***shipping date (DateOrders)*** and ***order date (DateOrders)*** is showing ***object*** data type. It should be ***datetime*** data type. So, Let's make it"
   ]
  },
  {
   "cell_type": "code",
   "execution_count": 70,
   "id": "64d4aaf5",
   "metadata": {
    "scrolled": true
   },
   "outputs": [
    {
     "name": "stdout",
     "output_type": "stream",
     "text": [
      "<class 'pandas.core.frame.DataFrame'>\n",
      "RangeIndex: 180519 entries, 0 to 180518\n",
      "Data columns (total 53 columns):\n",
      " #   Column                         Non-Null Count   Dtype         \n",
      "---  ------                         --------------   -----         \n",
      " 0   Type                           180519 non-null  object        \n",
      " 1   Days for shipping (real)       180519 non-null  int64         \n",
      " 2   Days for shipment (scheduled)  180519 non-null  int64         \n",
      " 3   Benefit per order              180519 non-null  float64       \n",
      " 4   Sales per customer             180519 non-null  float64       \n",
      " 5   Delivery Status                180519 non-null  object        \n",
      " 6   Late_delivery_risk             180519 non-null  int64         \n",
      " 7   Category Id                    180519 non-null  int64         \n",
      " 8   Category Name                  180519 non-null  object        \n",
      " 9   Customer City                  180519 non-null  object        \n",
      " 10  Customer Country               180519 non-null  object        \n",
      " 11  Customer Email                 180519 non-null  object        \n",
      " 12  Customer Fname                 180519 non-null  object        \n",
      " 13  Customer Id                    180519 non-null  int64         \n",
      " 14  Customer Lname                 180511 non-null  object        \n",
      " 15  Customer Password              180519 non-null  object        \n",
      " 16  Customer Segment               180519 non-null  object        \n",
      " 17  Customer State                 180519 non-null  object        \n",
      " 18  Customer Street                180519 non-null  object        \n",
      " 19  Customer Zipcode               180516 non-null  float64       \n",
      " 20  Department Id                  180519 non-null  int64         \n",
      " 21  Department Name                180519 non-null  object        \n",
      " 22  Latitude                       180519 non-null  float64       \n",
      " 23  Longitude                      180519 non-null  float64       \n",
      " 24  Market                         180519 non-null  object        \n",
      " 25  Order City                     180519 non-null  object        \n",
      " 26  Order Country                  180519 non-null  object        \n",
      " 27  Order Customer Id              180519 non-null  int64         \n",
      " 28  order date (DateOrders)        180519 non-null  datetime64[ns]\n",
      " 29  Order Id                       180519 non-null  int64         \n",
      " 30  Order Item Cardprod Id         180519 non-null  int64         \n",
      " 31  Order Item Discount            180519 non-null  float64       \n",
      " 32  Order Item Discount Rate       180519 non-null  float64       \n",
      " 33  Order Item Id                  180519 non-null  int64         \n",
      " 34  Order Item Product Price       180519 non-null  float64       \n",
      " 35  Order Item Profit Ratio        180519 non-null  float64       \n",
      " 36  Order Item Quantity            180519 non-null  int64         \n",
      " 37  Sales                          180519 non-null  float64       \n",
      " 38  Order Item Total               180519 non-null  float64       \n",
      " 39  Order Profit Per Order         180519 non-null  float64       \n",
      " 40  Order Region                   180519 non-null  object        \n",
      " 41  Order State                    180519 non-null  object        \n",
      " 42  Order Status                   180519 non-null  object        \n",
      " 43  Order Zipcode                  24840 non-null   float64       \n",
      " 44  Product Card Id                180519 non-null  int64         \n",
      " 45  Product Category Id            180519 non-null  int64         \n",
      " 46  Product Description            0 non-null       float64       \n",
      " 47  Product Image                  180519 non-null  object        \n",
      " 48  Product Name                   180519 non-null  object        \n",
      " 49  Product Price                  180519 non-null  float64       \n",
      " 50  Product Status                 180519 non-null  int64         \n",
      " 51  shipping date (DateOrders)     180519 non-null  datetime64[ns]\n",
      " 52  Shipping Mode                  180519 non-null  object        \n",
      "dtypes: datetime64[ns](2), float64(15), int64(14), object(22)\n",
      "memory usage: 73.0+ MB\n"
     ]
    }
   ],
   "source": [
    "df['shipping date (DateOrders)'] = pd.to_datetime(df['shipping date (DateOrders)'], format='%m/%d/%Y %H:%M')\n",
    "df['order date (DateOrders)'] = pd.to_datetime(df['order date (DateOrders)'], format='%m/%d/%Y %H:%M')\n",
    "df.info()"
   ]
  },
  {
   "cell_type": "markdown",
   "id": "47cb36c7",
   "metadata": {},
   "source": [
    "Now ***shipping date (DateOrders)*** and ***order date (DateOrders)*** columns are showing correct data type."
   ]
  },
  {
   "cell_type": "code",
   "execution_count": 71,
   "id": "31ffbf8f",
   "metadata": {},
   "outputs": [
    {
     "name": "stdout",
     "output_type": "stream",
     "text": [
      "['Order Profit Per Order', 'Product Card Id', 'Customer Password', 'Product Category Id', 'Order Customer Id', 'Order Item Total', 'Product Price']\n",
      "\n",
      "Total duplicate columns:  7\n"
     ]
    }
   ],
   "source": [
    "# UDF for getting duplicate columns name\n",
    "def getDuplicateColumns(df):\n",
    "    duplicateColumnNames = set() # Define empty set\n",
    "     \n",
    "    for x in range(df.shape[1]): # Iterate through all the columns of DataFrame\n",
    "        col = df.iloc[:, x]\n",
    "        for y in range(x + 1, df.shape[1]): #Iterate through all the columns in DataFrame from (x + 1)th index to last index\n",
    "            otherCol = df.iloc[:, y]\n",
    "             \n",
    "            # If two columns are equal then adding to the set\n",
    "            if col.equals(otherCol):\n",
    "                duplicateColumnNames.add(df.columns.values[y])\n",
    "                 \n",
    "    # Return list of unique column names whose contents are duplicates\n",
    "    return list(duplicateColumnNames)\n",
    "\n",
    "columns = getDuplicateColumns(df)\n",
    "print(columns)\n",
    "print(\"\\nTotal duplicate columns: \", len(columns))"
   ]
  },
  {
   "cell_type": "markdown",
   "id": "d27fcd1d",
   "metadata": {},
   "source": [
    "These columns are duplicate, So we can drop these colums. Let's drop those"
   ]
  },
  {
   "cell_type": "code",
   "execution_count": 72,
   "id": "44644ac6",
   "metadata": {},
   "outputs": [
    {
     "name": "stdout",
     "output_type": "stream",
     "text": [
      "(180519, 46)\n"
     ]
    }
   ],
   "source": [
    "df = df.drop(columns = getDuplicateColumns(df), inplace=False)\n",
    "print(df.shape)"
   ]
  },
  {
   "cell_type": "markdown",
   "id": "c760f8e8",
   "metadata": {},
   "source": [
    "Earlier there was 53 columns, After removing ***7*** duplicate columns, Now it have 46 columns"
   ]
  },
  {
   "cell_type": "code",
   "execution_count": 73,
   "id": "68916ef4",
   "metadata": {},
   "outputs": [
    {
     "name": "stdout",
     "output_type": "stream",
     "text": [
      "{'Customer Email': 'XXXXXXXXX', 'Product Description': nan, 'Product Status': 0}\n",
      "\n",
      "Total columns:  3\n"
     ]
    }
   ],
   "source": [
    "# UDF for getting duplicate columns name\n",
    "def getOneDistinctValueCols(df):\n",
    "    duplicateColumnNames = set() # Define empty set\n",
    "    uniqueColumnNames = {}\n",
    "    \n",
    "    for col in list(df.columns): # Iterate through all the columns of DataFrame\n",
    "        listUniqueValue = df[col].unique()\n",
    "        if (len(listUniqueValue) == 1): # If column contains only signle unqiue value then adding to the dictionary\n",
    "            uniqueColumnNames[col] = listUniqueValue[0];\n",
    "    \n",
    "    # Return dict of signle unique column names along with values.\n",
    "    return dict(uniqueColumnNames)\n",
    "\n",
    "columns = getOneDistinctValueCols(df)\n",
    "print(columns)\n",
    "print(\"\\nTotal columns: \", len(columns))"
   ]
  },
  {
   "cell_type": "markdown",
   "id": "3f5abd82",
   "metadata": {},
   "source": [
    "From the above result we can see that ***3*** columns contains only one unique values. So, we can drop those columns. Let's do it"
   ]
  },
  {
   "cell_type": "code",
   "execution_count": 84,
   "id": "c02891ff",
   "metadata": {
    "scrolled": false
   },
   "outputs": [
    {
     "name": "stdout",
     "output_type": "stream",
     "text": [
      "(180519, 44)\n"
     ]
    }
   ],
   "source": [
    "df = df.drop(columns = getOneDistinctValueCols(df).keys(), inplace=False)\n",
    "print(df.shape)"
   ]
  },
  {
   "cell_type": "markdown",
   "id": "2145f3c0",
   "metadata": {},
   "source": [
    "Earlier there was 53 columns, After removing ***3*** duplicate columns, Now it have 43 columns"
   ]
  },
  {
   "cell_type": "code",
   "execution_count": 75,
   "id": "0269aede",
   "metadata": {
    "scrolled": false
   },
   "outputs": [],
   "source": [
    "# Merge customer first name & last name in single column \n",
    "df[\"Customer Name\"] = df[\"Customer Fname\"].astype(str) + \" \" + df[\"Customer Lname\"].astype(str)"
   ]
  },
  {
   "cell_type": "code",
   "execution_count": 85,
   "id": "a085a709",
   "metadata": {},
   "outputs": [
    {
     "name": "stdout",
     "output_type": "stream",
     "text": [
      "(180519, 42)\n"
     ]
    }
   ],
   "source": [
    "df_a = df.drop(columns = [\"Customer Fname\", \"Customer Lname\"], inplace=False) # Drop Customer Fname & Customer Lname columns\n",
    "print(df_a.shape)"
   ]
  },
  {
   "cell_type": "markdown",
   "id": "0f650d6d",
   "metadata": {},
   "source": [
    "### Now let's check whether there have any null values or not"
   ]
  },
  {
   "cell_type": "code",
   "execution_count": 86,
   "id": "a709bc3c",
   "metadata": {},
   "outputs": [
    {
     "name": "stdout",
     "output_type": "stream",
     "text": [
      "Type                                  0\n",
      "Days for shipping (real)              0\n",
      "Days for shipment (scheduled)         0\n",
      "Benefit per order                     0\n",
      "Sales per customer                    0\n",
      "Delivery Status                       0\n",
      "Late_delivery_risk                    0\n",
      "Category Id                           0\n",
      "Category Name                         0\n",
      "Customer City                         0\n",
      "Customer Country                      0\n",
      "Customer Id                           0\n",
      "Customer Segment                      0\n",
      "Customer State                        0\n",
      "Customer Street                       0\n",
      "Customer Zipcode                      3\n",
      "Department Id                         0\n",
      "Department Name                       0\n",
      "Latitude                              0\n",
      "Longitude                             0\n",
      "Market                                0\n",
      "Order City                            0\n",
      "Order Country                         0\n",
      "order date (DateOrders)               0\n",
      "Order Id                              0\n",
      "Order Item Cardprod Id                0\n",
      "Order Item Discount                   0\n",
      "Order Item Discount Rate              0\n",
      "Order Item Id                         0\n",
      "Order Item Product Price              0\n",
      "Order Item Profit Ratio               0\n",
      "Order Item Quantity                   0\n",
      "Sales                                 0\n",
      "Order Region                          0\n",
      "Order State                           0\n",
      "Order Status                          0\n",
      "Order Zipcode                    155679\n",
      "Product Image                         0\n",
      "Product Name                          0\n",
      "shipping date (DateOrders)            0\n",
      "Shipping Mode                         0\n",
      "Customer Name                         0\n",
      "dtype: int64\n"
     ]
    }
   ],
   "source": [
    "print(df_a.isnull().sum())"
   ]
  },
  {
   "cell_type": "markdown",
   "id": "6bab2846",
   "metadata": {},
   "source": [
    "From the result, We can see there is ***Order Zipcode*** column contains null value. And if we think about this column it is irrelevant in data analysis. So, we can drop this column as well. "
   ]
  },
  {
   "cell_type": "code",
   "execution_count": 91,
   "id": "4be8a39c",
   "metadata": {},
   "outputs": [
    {
     "name": "stdout",
     "output_type": "stream",
     "text": [
      "Type                             0\n",
      "Days for shipping (real)         0\n",
      "Days for shipment (scheduled)    0\n",
      "Benefit per order                0\n",
      "Sales per customer               0\n",
      "Delivery Status                  0\n",
      "Late_delivery_risk               0\n",
      "Category Id                      0\n",
      "Category Name                    0\n",
      "Customer City                    0\n",
      "Customer Country                 0\n",
      "Customer Id                      0\n",
      "Customer Segment                 0\n",
      "Customer State                   0\n",
      "Customer Street                  0\n",
      "Customer Zipcode                 3\n",
      "Department Id                    0\n",
      "Department Name                  0\n",
      "Latitude                         0\n",
      "Longitude                        0\n",
      "Market                           0\n",
      "Order City                       0\n",
      "Order Country                    0\n",
      "order date (DateOrders)          0\n",
      "Order Id                         0\n",
      "Order Item Cardprod Id           0\n",
      "Order Item Discount              0\n",
      "Order Item Discount Rate         0\n",
      "Order Item Id                    0\n",
      "Order Item Product Price         0\n",
      "Order Item Profit Ratio          0\n",
      "Order Item Quantity              0\n",
      "Sales                            0\n",
      "Order Region                     0\n",
      "Order State                      0\n",
      "Order Status                     0\n",
      "Product Image                    0\n",
      "Product Name                     0\n",
      "shipping date (DateOrders)       0\n",
      "Shipping Mode                    0\n",
      "Customer Name                    0\n",
      "dtype: int64\n"
     ]
    }
   ],
   "source": [
    "df_b = df_a.drop(columns = [\"Order Zipcode\"], inplace=False)\n",
    "print(df_b.isnull().sum())"
   ]
  },
  {
   "cell_type": "markdown",
   "id": "480e2dce",
   "metadata": {},
   "source": [
    "Now, we can see there is ***no null values*** in the above columns"
   ]
  },
  {
   "cell_type": "markdown",
   "id": "0014661f",
   "metadata": {},
   "source": [
    "# *Univarite Analysis*"
   ]
  },
  {
   "cell_type": "markdown",
   "id": "41670970",
   "metadata": {},
   "source": [
    "* Univariate analysis:- provides summary statistics for each field in the raw data set (or) summary only on one variable. Ex:- CDF,PDF,Box plot, Violin plot.(don't worry, will see below what each of them is)\n",
    "* Bivariate analysis:- is performed to find the relationship between each variable in the dataset and the target variable of interest (or) using 2 variables and finding the relationship between them.Ex:-Box plot, Violin plot.\n",
    "* Multivariate analysis:- is performed to understand interactions between different fields in the dataset (or) finding interactions between variables more than 2. Ex:- Pair plot and 3D scatter plot."
   ]
  },
  {
   "cell_type": "code",
   "execution_count": null,
   "id": "e058d0b3",
   "metadata": {},
   "outputs": [],
   "source": []
  },
  {
   "cell_type": "code",
   "execution_count": null,
   "id": "a301d528",
   "metadata": {},
   "outputs": [],
   "source": []
  }
 ],
 "metadata": {
  "kernelspec": {
   "display_name": "Python 3 (ipykernel)",
   "language": "python",
   "name": "python3"
  },
  "language_info": {
   "codemirror_mode": {
    "name": "ipython",
    "version": 3
   },
   "file_extension": ".py",
   "mimetype": "text/x-python",
   "name": "python",
   "nbconvert_exporter": "python",
   "pygments_lexer": "ipython3",
   "version": "3.9.13"
  }
 },
 "nbformat": 4,
 "nbformat_minor": 5
}
